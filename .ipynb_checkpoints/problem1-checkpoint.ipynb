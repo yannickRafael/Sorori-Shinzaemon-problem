{
 "cells": [
  {
   "cell_type": "code",
   "execution_count": 2,
   "metadata": {},
   "outputs": [],
   "source": [
    "def nr_of_grains(days):\n",
    "    total = 1\n",
    "    amounts = []\n",
    "    amounts.append(total)\n",
    "    \n",
    "    for i in range(0, days):\n",
    "        total = 2 * total\n",
    "        amounts.append(total)\n",
    "\n",
    "    return amounts   "
   ]
  },
  {
   "cell_type": "code",
   "execution_count": 3,
   "metadata": {},
   "outputs": [],
   "source": [
    "days = int(input('Insert the number of days: '))\n",
    "amounts = nr_of_grains(days)"
   ]
  },
  {
   "cell_type": "code",
   "execution_count": 4,
   "metadata": {},
   "outputs": [
    {
     "name": "stdout",
     "output_type": "stream",
     "text": [
      "the amount of grains after 2 days is 4\n"
     ]
    }
   ],
   "source": [
    "print(f'the amount of grains after {days} days is {amounts[-1]}')\n"
   ]
  },
  {
   "cell_type": "code",
   "execution_count": null,
   "metadata": {},
   "outputs": [],
   "source": []
  }
 ],
 "metadata": {
  "kernelspec": {
   "display_name": "Python 3",
   "language": "python",
   "name": "python3"
  },
  "language_info": {
   "codemirror_mode": {
    "name": "ipython",
    "version": 3
   },
   "file_extension": ".py",
   "mimetype": "text/x-python",
   "name": "python",
   "nbconvert_exporter": "python",
   "pygments_lexer": "ipython3",
   "version": "3.10.12"
  }
 },
 "nbformat": 4,
 "nbformat_minor": 2
}
